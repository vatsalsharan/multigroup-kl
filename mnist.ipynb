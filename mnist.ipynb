{
 "cells": [
  {
   "cell_type": "code",
   "execution_count": null,
   "metadata": {},
   "outputs": [],
   "source": [
    "from Node import BranchingProgram\n",
    "from Node import Node\n",
    "import numpy as np\n",
    "import matplotlib.pyplot as plt\n",
    "from sklearn.datasets import fetch_openml\n",
    "from sklearn.model_selection import train_test_split\n",
    "from sklearn.ensemble import RandomForestClassifier\n",
    "from sklearn.ensemble import AdaBoostClassifier\n",
    "from sklearn.tree import DecisionTreeClassifier\n",
    "from sklearn.linear_model import LogisticRegression\n",
    "import multiA as ma"
   ]
  },
  {
   "cell_type": "code",
   "execution_count": null,
   "metadata": {},
   "outputs": [],
   "source": [
    "k = 15\n",
    "n_cells = np.zeros(2*k)\n",
    "n_cells[k] = 1\n",
    "lam = 1.3\n",
    "for i in np.arange(1,k):\n",
    "    n_cells[k + i] = n_cells[k+i-1] * lam\n",
    "    n_cells[k - i] = n_cells[k - i + 1] / lam"
   ]
  },
  {
   "cell_type": "code",
   "execution_count": null,
   "metadata": {},
   "outputs": [],
   "source": [
    "X,y = ma.load_data()\n",
    "X_train, X_test, y_train, y_test = train_test_split(\n",
    "    X, y, train_size=0.8, shuffle=True)"
   ]
  },
  {
   "cell_type": "code",
   "execution_count": null,
   "metadata": {},
   "outputs": [],
   "source": [
    "print(np.shape(p_test), np.shape(p_train))"
   ]
  },
  {
   "cell_type": "code",
   "execution_count": null,
   "metadata": {},
   "outputs": [],
   "source": [
    "def trim_arrays(A,B):\n",
    "    m = np.min((len(A),len(B)))\n",
    "    return A[:m],B[:m]"
   ]
  },
  {
   "cell_type": "code",
   "execution_count": null,
   "metadata": {},
   "outputs": [],
   "source": [
    "## preparing the data, with an even/odd bias given by bias\n",
    "\n",
    "bias = 0.9\n",
    "p_train,r_train,kl = ma.prepare_sets(X_train, y_train, bias)\n",
    "p_test, r_test, _ = ma.prepare_sets(X_test, y_test, bias)\n",
    "p_train, r_train = trim_arrays(p_train, r_train)\n",
    "true_KL = kl/np.log(2)\n",
    "print(\"True KL (base 2) with bias\",bias,\"is \",kl2)"
   ]
  },
  {
   "cell_type": "code",
   "execution_count": null,
   "metadata": {},
   "outputs": [],
   "source": [
    "# the following code is used for exporting the data to MATLAB, to run the MATLAB algorithms\n",
    "\n",
    "mdic = {\"data_p\": p_train.T, \"data_r\": r_train.T, \"data_r_test\": r_test.T}\n",
    "name = 'mnist_bias'+str(int(100*bias))+'.mat'\n",
    "scipy.io.savemat(name, mdic)"
   ]
  },
  {
   "cell_type": "code",
   "execution_count": null,
   "metadata": {},
   "outputs": [],
   "source": [
    "def classifier():\n",
    "    return RandomForestClassifier(max_depth=5, n_estimators=10)\n",
    "#     return DecisionTreeClassifier(max_depth=1)\n",
    "#     return LogisticRegression(max_iter=500)"
   ]
  },
  {
   "cell_type": "code",
   "execution_count": null,
   "metadata": {},
   "outputs": [],
   "source": [
    "me = ma.MaxEnt()\n",
    "me.fit(p_train, r_train, iter=150, clr_maker=classifier, eps=0.02, eta=0.02)\n",
    "me.compute_KL(r_test)"
   ]
  },
  {
   "cell_type": "code",
   "execution_count": null,
   "metadata": {},
   "outputs": [],
   "source": [
    "def trim_arrays(A,B):\n",
    "    m = np.min((len(A),len(B)))\n",
    "    return A[:m],B[:m]"
   ]
  },
  {
   "cell_type": "code",
   "execution_count": null,
   "metadata": {},
   "outputs": [],
   "source": [
    "A = BranchingProgram(n_cells, 150, 0.02, classifier, reweigh = 0)\n",
    "p1,r1 = trim_arrays(p_train, r_train)\n",
    "A.fit(p1, r1)\n",
    "p2,r2 = trim_arrays(p_test, r_test)\n",
    "A.predict_kl_pair(p2,r2)"
   ]
  },
  {
   "cell_type": "code",
   "execution_count": null,
   "metadata": {},
   "outputs": [],
   "source": [
    "def get_digit(X,y,digit):\n",
    "    Z = []\n",
    "    for i in range(len(X)):\n",
    "        if int(y[i])==digit:\n",
    "            Z.append(X[i])\n",
    "    return np.asarray(Z)"
   ]
  },
  {
   "cell_type": "code",
   "execution_count": null,
   "metadata": {},
   "outputs": [],
   "source": [
    "X_train_digits = []\n",
    "X_test_digits = []\n",
    "for i in range(10):\n",
    "    X_train_digits.append(get_digit(X_train, y_train, i))\n",
    "    X_test_digits.append(get_digit(X_test, y_test, i))"
   ]
  },
  {
   "cell_type": "code",
   "execution_count": null,
   "metadata": {},
   "outputs": [],
   "source": [
    "## to run the experiment for the pair of digits 8,9 select dig2=8, dig1=9\n",
    "\n",
    "dig2 = 8\n",
    "dig1 = 9\n",
    "Z = np.concatenate((X_test_digits[dig2], X_test_digits[dig1]))\n",
    "L2 = len(X_test_digits[dig2])\n",
    "L1 = len(X_test_digits[dig1])\n",
    "Zy = np.concatenate((np.zeros(L2)+dig2, np.zeros(L1)+dig1))\n",
    "Z_p,Z_r,Z_kl = ma.prepare_sets(Z,Zy,0.9)\n",
    "print(Z_kl/np.log(2))\n",
    "data_p,data_r = trim_arrays(Z_p, Z_r)\n",
    "X_test_pair_8 = data_r"
   ]
  },
  {
   "cell_type": "code",
   "execution_count": null,
   "metadata": {},
   "outputs": [],
   "source": [
    "print(me.compute_KL(data_r))"
   ]
  },
  {
   "cell_type": "code",
   "execution_count": null,
   "metadata": {},
   "outputs": [],
   "source": [
    "print(A.predict_kl_pair(data_p,data_r))"
   ]
  },
  {
   "cell_type": "code",
   "execution_count": null,
   "metadata": {},
   "outputs": [],
   "source": [
    "# the following code is used for exporting the data to MATLAB, to run the MATLAB algorithms\n",
    "\n",
    "mdic = {\"digits_0\": X_test_pair_0.T, \"digits_1\": X_test_pair_1.T, \"digits_2\": X_test_pair_2.T, \n",
    "       \"digits_3\": X_test_pair_3.T, \"digits_4\": X_test_pair_4.T, \"digits_5\": X_test_pair_5.T, \n",
    "       \"digits_6\": X_test_pair_6.T, \"digits_7\": X_test_pair_7.T, \"digits_8\": X_test_pair_8.T, \n",
    "       \"digits_9\": X_test_pair_9.T }\n",
    "scipy.io.savemat('mnist_digits.mat', mdic)"
   ]
  },
  {
   "cell_type": "code",
   "execution_count": null,
   "metadata": {},
   "outputs": [],
   "source": [
    "# the following are the results which are reported in the paper, using the cells above, \n",
    "# 'dt' here stands for decision tree of depth 1 as base classifier\n",
    "\n",
    "mc_digits = [2.46,2.29,1.9,1.65,1.52,1.9,2.28,1.99,1.43,2]\n",
    "me_digits = [2.44,1.93,2.02,1.51,1.58,2.64,2.51,1.36,1.59,2.55]\n",
    "mc_dt_digits = [2.19,2.06,1.73,1.62,1.22,1.72,2.33,1.93,1.53,1.96]\n",
    "me_dt_digits = [1.4,1.32,1.4,0.54,0.6,1.93,1.81,0.61,0.68,1.5]"
   ]
  },
  {
   "cell_type": "code",
   "execution_count": null,
   "metadata": {
    "scrolled": true
   },
   "outputs": [],
   "source": [
    "fig,ax=pl.subplots(1,1)\n",
    "plt.rc('xtick', labelsize=12)    # fontsize of the tick labels\n",
    "plt.rc('ytick', labelsize=12)    # fontsize of the tick labels\n",
    "plt.rc('legend', fontsize=10)    # legend fontsize\n",
    "plt.rc('figure', titlesize=14)  # fontsize of the figure title\n",
    "k = 10\n",
    "x_axis = range(k)\n",
    "ax.plot(x_axis, true_KL*np.ones(k), '--r')\n",
    "ax.plot(x_axis,me_digits, color = 'b', marker='x')\n",
    "ax.plot(x_axis,mc_digits, color = 'g', marker='x')\n",
    "ax.plot(x_axis,me_dt_digits, '--',color = 'b', marker='+')\n",
    "ax.plot(x_axis,mc_dt_digits, '--',color = 'g', marker='+')\n",
    "ax.set_xticks([x for x in range(10)])\n",
    "ax.set_xticklabels(x_ticks)\n",
    "ax.set_ylim([0, 3.5])\n",
    "x_ticks = ['\\\"0,1\\\"', '\\\"1,2\\\"', '\\\"2,3\\\"', '\\\"3,4\\\"', '\\\"4,5\\\"', '\\\"5,6\\\"', '\\\"6,7\\\"', '\\\"7,8\\\"', '\\\"8,9\\\"', '\\\"9,0\\\"']\n",
    "fig.suptitle('KL divergence for subgroups for MNIST')\n",
    "ax.legend(['True KL','LLK-RF5','MC-RF5','LLK-DT','MC-DT'],loc='upper left',mode = \"expand\", ncol = 4)\n",
    "#ax.show()"
   ]
  },
  {
   "cell_type": "code",
   "execution_count": null,
   "metadata": {},
   "outputs": [],
   "source": []
  }
 ],
 "metadata": {
  "kernelspec": {
   "display_name": "Python 3",
   "language": "python",
   "name": "python3"
  },
  "language_info": {
   "codemirror_mode": {
    "name": "ipython",
    "version": 3
   },
   "file_extension": ".py",
   "mimetype": "text/x-python",
   "name": "python",
   "nbconvert_exporter": "python",
   "pygments_lexer": "ipython3",
   "version": "3.7.3"
  }
 },
 "nbformat": 4,
 "nbformat_minor": 2
}
